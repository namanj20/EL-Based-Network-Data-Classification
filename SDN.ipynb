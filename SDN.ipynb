{
 "cells": [
  {
   "cell_type": "code",
   "execution_count": 1,
   "id": "c02fa9d8",
   "metadata": {},
   "outputs": [],
   "source": [
    "import pandas as pd"
   ]
  },
  {
   "cell_type": "code",
   "execution_count": 2,
   "id": "b3854053",
   "metadata": {},
   "outputs": [],
   "source": [
    "df = pd.read_csv('sdn_dataset_2022.csv',sep=';')"
   ]
  },
  {
   "cell_type": "code",
   "execution_count": 3,
   "id": "9dd8f777",
   "metadata": {},
   "outputs": [
    {
     "data": {
      "text/plain": [
       "(5988, 41)"
      ]
     },
     "execution_count": 3,
     "metadata": {},
     "output_type": "execute_result"
    }
   ],
   "source": [
    "df.shape"
   ]
  },
  {
   "cell_type": "code",
   "execution_count": 4,
   "id": "c1459a82",
   "metadata": {},
   "outputs": [
    {
     "name": "stdout",
     "output_type": "stream",
     "text": [
      "<class 'pandas.core.frame.DataFrame'>\n",
      "RangeIndex: 5988 entries, 0 to 5987\n",
      "Data columns (total 41 columns):\n",
      " #   Column             Non-Null Count  Dtype  \n",
      "---  ------             --------------  -----  \n",
      " 0   forward_pl_mean    5985 non-null   float64\n",
      " 1   forward_piat_mean  5985 non-null   float64\n",
      " 2   forward_pps_mean   5985 non-null   float64\n",
      " 3   forward_bps_mean   5985 non-null   float64\n",
      " 4   forward_pl_var     5985 non-null   float64\n",
      " 5   forward_piat_var   5985 non-null   float64\n",
      " 6   forward_pps_var    5985 non-null   float64\n",
      " 7   forward_bps_var    5985 non-null   float64\n",
      " 8   forward_pl_q1      5985 non-null   float64\n",
      " 9   forward_pl_q3      5985 non-null   float64\n",
      " 10  forward_piat_q1    5985 non-null   float64\n",
      " 11  forward_piat_q3    5985 non-null   float64\n",
      " 12  forward_pl_max     5985 non-null   float64\n",
      " 13  forward_pl_min     5985 non-null   float64\n",
      " 14  forward_piat_max   5985 non-null   float64\n",
      " 15  forward_piat_min   5985 non-null   float64\n",
      " 16  forward_pps_max    5985 non-null   float64\n",
      " 17  forward_pps_min    5985 non-null   float64\n",
      " 18  forward_bps_max    5985 non-null   float64\n",
      " 19  forward_bps_min    5985 non-null   float64\n",
      " 20  reverse_pl_mean    5985 non-null   float64\n",
      " 21  reverse_piat_mean  5985 non-null   float64\n",
      " 22  reverse_pps_mean   5985 non-null   float64\n",
      " 23  reverse_bps_mean   5985 non-null   float64\n",
      " 24  reverse_pl_var     5985 non-null   float64\n",
      " 25  reverse_piat_var   5985 non-null   float64\n",
      " 26  reverse_pps_var    5985 non-null   float64\n",
      " 27  reverse_bps_var    5985 non-null   float64\n",
      " 28  reverse_pl_q1      5985 non-null   float64\n",
      " 29  reverse_pl_q3      5985 non-null   float64\n",
      " 30  reverse_piat_q1    5985 non-null   float64\n",
      " 31  reverse_piat_q3    5985 non-null   float64\n",
      " 32  reverse_pl_max     5985 non-null   float64\n",
      " 33  reverse_pl_min     5985 non-null   float64\n",
      " 34  reverse_piat_max   5985 non-null   float64\n",
      " 35  reverse_piat_min   5985 non-null   float64\n",
      " 36  reverse_pps_max    5985 non-null   float64\n",
      " 37  reverse_pps_min    5985 non-null   float64\n",
      " 38  reverse_bps_max    5985 non-null   float64\n",
      " 39  reverse_bps_min    5985 non-null   float64\n",
      " 40  category           5985 non-null   object \n",
      "dtypes: float64(40), object(1)\n",
      "memory usage: 1.9+ MB\n"
     ]
    }
   ],
   "source": [
    "df.info()"
   ]
  },
  {
   "cell_type": "code",
   "execution_count": 5,
   "id": "c8d3da44",
   "metadata": {},
   "outputs": [
    {
     "data": {
      "text/plain": [
       "Index(['forward_pl_mean', 'forward_piat_mean', 'forward_pps_mean',\n",
       "       'forward_bps_mean', 'forward_pl_var', 'forward_piat_var',\n",
       "       'forward_pps_var', 'forward_bps_var', 'forward_pl_q1', 'forward_pl_q3',\n",
       "       'forward_piat_q1', 'forward_piat_q3', 'forward_pl_max',\n",
       "       'forward_pl_min', 'forward_piat_max', 'forward_piat_min',\n",
       "       'forward_pps_max', 'forward_pps_min', 'forward_bps_max',\n",
       "       'forward_bps_min', 'reverse_pl_mean', 'reverse_piat_mean',\n",
       "       'reverse_pps_mean', 'reverse_bps_mean', 'reverse_pl_var',\n",
       "       'reverse_piat_var', 'reverse_pps_var', 'reverse_bps_var',\n",
       "       'reverse_pl_q1', 'reverse_pl_q3', 'reverse_piat_q1', 'reverse_piat_q3',\n",
       "       'reverse_pl_max', 'reverse_pl_min', 'reverse_piat_max',\n",
       "       'reverse_piat_min', 'reverse_pps_max', 'reverse_pps_min',\n",
       "       'reverse_bps_max', 'reverse_bps_min', 'category'],\n",
       "      dtype='object')"
      ]
     },
     "execution_count": 5,
     "metadata": {},
     "output_type": "execute_result"
    }
   ],
   "source": [
    "df.columns"
   ]
  },
  {
   "cell_type": "code",
   "execution_count": 6,
   "id": "ff76e273",
   "metadata": {},
   "outputs": [
    {
     "data": {
      "text/plain": [
       "category\n",
       "FILE-SKYPE          720\n",
       "AUDIO-HANGOUTS      551\n",
       "EMAIL               495\n",
       "VIDEO-HANGOUTS      488\n",
       "AUDIO-SKYPE         482\n",
       "AUDIO-FACEBOOK      388\n",
       "FILE-FTPS           375\n",
       "VIDEO-SKYPE         325\n",
       "AUDIO-VOIPBUSTER    316\n",
       "STR-SPOTIFY         310\n",
       "FILE-SFTP-DOWN      282\n",
       "CHAT-GMAIL          267\n",
       "CHAT-FACEBOOK       220\n",
       "STR-YOUTUBE         197\n",
       "STR-NETFLIX         162\n",
       "CHAT-ICQ            136\n",
       "STR-VIMEO           133\n",
       "CHAT-HANGOUTS       129\n",
       "--UNKNOWN--           9\n",
       "Name: count, dtype: int64"
      ]
     },
     "execution_count": 6,
     "metadata": {},
     "output_type": "execute_result"
    }
   ],
   "source": [
    "df['category'].value_counts()"
   ]
  },
  {
   "cell_type": "code",
   "execution_count": 7,
   "id": "13b9686c",
   "metadata": {},
   "outputs": [],
   "source": [
    "import numpy as np\n",
    "\n",
    "category_mapping = {\n",
    "    'FILE': ['FILE-SKYPE', 'FILE-SFTP-DOWN', 'FILE-FTPS'],\n",
    "    'STR': ['STR-SPOTIFY', 'STR-VIMEO', 'STR-YOUTUBE'],\n",
    "    'CHAT': ['CHAT-HANGOUTS', 'CHAT-FACEBOOK', 'CHAT-GMAIL', 'CHAT-ICQ'],\n",
    "    'VIDEO': ['VIDEO-SKYPE', 'VIDEO-HANGOUTS'],\n",
    "    'AUDIO': ['AUDIO-VOIPBUSTER', 'AUDIO-SKYPE', 'AUDIO-HANGOUTS', 'AUDIO-FACEBOOK'],\n",
    "    'EMAIL': ['EMAIL']\n",
    "}\n",
    "\n",
    "def map_category_to_class(category):\n",
    "    for class_name, categories in category_mapping.items():\n",
    "        if category in categories:\n",
    "            return class_name\n",
    "    return \"Other\"  \n",
    "\n",
    "df['class'] = df['category'].apply(map_category_to_class)"
   ]
  },
  {
   "cell_type": "code",
   "execution_count": 8,
   "id": "e2a8b8e1",
   "metadata": {},
   "outputs": [
    {
     "data": {
      "text/plain": [
       "class\n",
       "AUDIO    1737\n",
       "FILE     1377\n",
       "VIDEO     813\n",
       "CHAT      752\n",
       "STR       640\n",
       "EMAIL     495\n",
       "Other     174\n",
       "Name: count, dtype: int64"
      ]
     },
     "execution_count": 8,
     "metadata": {},
     "output_type": "execute_result"
    }
   ],
   "source": [
    "df['class'].value_counts()"
   ]
  },
  {
   "cell_type": "code",
   "execution_count": 9,
   "id": "6b9c8bd2",
   "metadata": {},
   "outputs": [],
   "source": [
    "df.drop(['category'],axis=1,inplace=True)"
   ]
  },
  {
   "cell_type": "code",
   "execution_count": 10,
   "id": "0ec54e6f",
   "metadata": {},
   "outputs": [
    {
     "data": {
      "text/plain": [
       "forward_pl_mean      3\n",
       "forward_piat_mean    3\n",
       "forward_pps_mean     3\n",
       "forward_bps_mean     3\n",
       "forward_pl_var       3\n",
       "forward_piat_var     3\n",
       "forward_pps_var      3\n",
       "forward_bps_var      3\n",
       "forward_pl_q1        3\n",
       "forward_pl_q3        3\n",
       "forward_piat_q1      3\n",
       "forward_piat_q3      3\n",
       "forward_pl_max       3\n",
       "forward_pl_min       3\n",
       "forward_piat_max     3\n",
       "forward_piat_min     3\n",
       "forward_pps_max      3\n",
       "forward_pps_min      3\n",
       "forward_bps_max      3\n",
       "forward_bps_min      3\n",
       "reverse_pl_mean      3\n",
       "reverse_piat_mean    3\n",
       "reverse_pps_mean     3\n",
       "reverse_bps_mean     3\n",
       "reverse_pl_var       3\n",
       "reverse_piat_var     3\n",
       "reverse_pps_var      3\n",
       "reverse_bps_var      3\n",
       "reverse_pl_q1        3\n",
       "reverse_pl_q3        3\n",
       "reverse_piat_q1      3\n",
       "reverse_piat_q3      3\n",
       "reverse_pl_max       3\n",
       "reverse_pl_min       3\n",
       "reverse_piat_max     3\n",
       "reverse_piat_min     3\n",
       "reverse_pps_max      3\n",
       "reverse_pps_min      3\n",
       "reverse_bps_max      3\n",
       "reverse_bps_min      3\n",
       "class                0\n",
       "dtype: int64"
      ]
     },
     "execution_count": 10,
     "metadata": {},
     "output_type": "execute_result"
    }
   ],
   "source": [
    "df.isnull().sum()"
   ]
  },
  {
   "cell_type": "code",
   "execution_count": 11,
   "id": "f3166f04",
   "metadata": {},
   "outputs": [],
   "source": [
    "df = df.dropna()"
   ]
  },
  {
   "cell_type": "code",
   "execution_count": 12,
   "id": "b4e80ad6",
   "metadata": {},
   "outputs": [],
   "source": [
    "X = df.drop(['class'],axis=1)\n",
    "y = df['class']"
   ]
  },
  {
   "cell_type": "code",
   "execution_count": 13,
   "id": "66fc5b11",
   "metadata": {},
   "outputs": [],
   "source": [
    "from sklearn.model_selection import train_test_split"
   ]
  },
  {
   "cell_type": "code",
   "execution_count": 14,
   "id": "1c4ee564",
   "metadata": {},
   "outputs": [],
   "source": [
    "X_train, X_test, y_train, y_test = train_test_split(X, y, test_size=0.30, random_state=101)"
   ]
  },
  {
   "cell_type": "code",
   "execution_count": 15,
   "id": "d6a683db",
   "metadata": {},
   "outputs": [],
   "source": [
    "table = {}"
   ]
  },
  {
   "cell_type": "code",
   "execution_count": 16,
   "id": "aaabb424",
   "metadata": {},
   "outputs": [
    {
     "name": "stderr",
     "output_type": "stream",
     "text": [
      "C:\\Users\\naman\\AppData\\Local\\Programs\\Python\\Python310\\lib\\site-packages\\sklearn\\linear_model\\_logistic.py:458: ConvergenceWarning: lbfgs failed to converge (status=2):\n",
      "ABNORMAL_TERMINATION_IN_LNSRCH.\n",
      "\n",
      "Increase the number of iterations (max_iter) or scale the data as shown in:\n",
      "    https://scikit-learn.org/stable/modules/preprocessing.html\n",
      "Please also refer to the documentation for alternative solver options:\n",
      "    https://scikit-learn.org/stable/modules/linear_model.html#logistic-regression\n",
      "  n_iter_i = _check_optimize_result(\n",
      "C:\\Users\\naman\\AppData\\Local\\Programs\\Python\\Python310\\lib\\site-packages\\sklearn\\linear_model\\_logistic.py:458: ConvergenceWarning: lbfgs failed to converge (status=2):\n",
      "ABNORMAL_TERMINATION_IN_LNSRCH.\n",
      "\n",
      "Increase the number of iterations (max_iter) or scale the data as shown in:\n",
      "    https://scikit-learn.org/stable/modules/preprocessing.html\n",
      "Please also refer to the documentation for alternative solver options:\n",
      "    https://scikit-learn.org/stable/modules/linear_model.html#logistic-regression\n",
      "  n_iter_i = _check_optimize_result(\n",
      "C:\\Users\\naman\\AppData\\Local\\Programs\\Python\\Python310\\lib\\site-packages\\sklearn\\linear_model\\_logistic.py:458: ConvergenceWarning: lbfgs failed to converge (status=2):\n",
      "ABNORMAL_TERMINATION_IN_LNSRCH.\n",
      "\n",
      "Increase the number of iterations (max_iter) or scale the data as shown in:\n",
      "    https://scikit-learn.org/stable/modules/preprocessing.html\n",
      "Please also refer to the documentation for alternative solver options:\n",
      "    https://scikit-learn.org/stable/modules/linear_model.html#logistic-regression\n",
      "  n_iter_i = _check_optimize_result(\n",
      "C:\\Users\\naman\\AppData\\Local\\Programs\\Python\\Python310\\lib\\site-packages\\sklearn\\linear_model\\_logistic.py:458: ConvergenceWarning: lbfgs failed to converge (status=2):\n",
      "ABNORMAL_TERMINATION_IN_LNSRCH.\n",
      "\n",
      "Increase the number of iterations (max_iter) or scale the data as shown in:\n",
      "    https://scikit-learn.org/stable/modules/preprocessing.html\n",
      "Please also refer to the documentation for alternative solver options:\n",
      "    https://scikit-learn.org/stable/modules/linear_model.html#logistic-regression\n",
      "  n_iter_i = _check_optimize_result(\n",
      "C:\\Users\\naman\\AppData\\Local\\Programs\\Python\\Python310\\lib\\site-packages\\sklearn\\linear_model\\_logistic.py:458: ConvergenceWarning: lbfgs failed to converge (status=2):\n",
      "ABNORMAL_TERMINATION_IN_LNSRCH.\n",
      "\n",
      "Increase the number of iterations (max_iter) or scale the data as shown in:\n",
      "    https://scikit-learn.org/stable/modules/preprocessing.html\n",
      "Please also refer to the documentation for alternative solver options:\n",
      "    https://scikit-learn.org/stable/modules/linear_model.html#logistic-regression\n",
      "  n_iter_i = _check_optimize_result(\n",
      "C:\\Users\\naman\\AppData\\Local\\Programs\\Python\\Python310\\lib\\site-packages\\sklearn\\linear_model\\_logistic.py:458: ConvergenceWarning: lbfgs failed to converge (status=2):\n",
      "ABNORMAL_TERMINATION_IN_LNSRCH.\n",
      "\n",
      "Increase the number of iterations (max_iter) or scale the data as shown in:\n",
      "    https://scikit-learn.org/stable/modules/preprocessing.html\n",
      "Please also refer to the documentation for alternative solver options:\n",
      "    https://scikit-learn.org/stable/modules/linear_model.html#logistic-regression\n",
      "  n_iter_i = _check_optimize_result(\n",
      "C:\\Users\\naman\\AppData\\Local\\Programs\\Python\\Python310\\lib\\site-packages\\sklearn\\linear_model\\_logistic.py:458: ConvergenceWarning: lbfgs failed to converge (status=2):\n",
      "ABNORMAL_TERMINATION_IN_LNSRCH.\n",
      "\n",
      "Increase the number of iterations (max_iter) or scale the data as shown in:\n",
      "    https://scikit-learn.org/stable/modules/preprocessing.html\n",
      "Please also refer to the documentation for alternative solver options:\n",
      "    https://scikit-learn.org/stable/modules/linear_model.html#logistic-regression\n",
      "  n_iter_i = _check_optimize_result(\n",
      "C:\\Users\\naman\\AppData\\Local\\Programs\\Python\\Python310\\lib\\site-packages\\sklearn\\linear_model\\_logistic.py:458: ConvergenceWarning: lbfgs failed to converge (status=2):\n",
      "ABNORMAL_TERMINATION_IN_LNSRCH.\n",
      "\n",
      "Increase the number of iterations (max_iter) or scale the data as shown in:\n",
      "    https://scikit-learn.org/stable/modules/preprocessing.html\n",
      "Please also refer to the documentation for alternative solver options:\n",
      "    https://scikit-learn.org/stable/modules/linear_model.html#logistic-regression\n",
      "  n_iter_i = _check_optimize_result(\n",
      "C:\\Users\\naman\\AppData\\Local\\Programs\\Python\\Python310\\lib\\site-packages\\sklearn\\linear_model\\_logistic.py:458: ConvergenceWarning: lbfgs failed to converge (status=2):\n",
      "ABNORMAL_TERMINATION_IN_LNSRCH.\n",
      "\n",
      "Increase the number of iterations (max_iter) or scale the data as shown in:\n",
      "    https://scikit-learn.org/stable/modules/preprocessing.html\n",
      "Please also refer to the documentation for alternative solver options:\n",
      "    https://scikit-learn.org/stable/modules/linear_model.html#logistic-regression\n",
      "  n_iter_i = _check_optimize_result(\n",
      "C:\\Users\\naman\\AppData\\Local\\Programs\\Python\\Python310\\lib\\site-packages\\sklearn\\linear_model\\_logistic.py:458: ConvergenceWarning: lbfgs failed to converge (status=2):\n",
      "ABNORMAL_TERMINATION_IN_LNSRCH.\n",
      "\n",
      "Increase the number of iterations (max_iter) or scale the data as shown in:\n",
      "    https://scikit-learn.org/stable/modules/preprocessing.html\n",
      "Please also refer to the documentation for alternative solver options:\n",
      "    https://scikit-learn.org/stable/modules/linear_model.html#logistic-regression\n",
      "  n_iter_i = _check_optimize_result(\n",
      "C:\\Users\\naman\\AppData\\Local\\Programs\\Python\\Python310\\lib\\site-packages\\sklearn\\linear_model\\_logistic.py:458: ConvergenceWarning: lbfgs failed to converge (status=2):\n",
      "ABNORMAL_TERMINATION_IN_LNSRCH.\n",
      "\n",
      "Increase the number of iterations (max_iter) or scale the data as shown in:\n",
      "    https://scikit-learn.org/stable/modules/preprocessing.html\n",
      "Please also refer to the documentation for alternative solver options:\n",
      "    https://scikit-learn.org/stable/modules/linear_model.html#logistic-regression\n",
      "  n_iter_i = _check_optimize_result(\n",
      "C:\\Users\\naman\\AppData\\Local\\Programs\\Python\\Python310\\lib\\site-packages\\sklearn\\linear_model\\_logistic.py:458: ConvergenceWarning: lbfgs failed to converge (status=2):\n",
      "ABNORMAL_TERMINATION_IN_LNSRCH.\n",
      "\n",
      "Increase the number of iterations (max_iter) or scale the data as shown in:\n",
      "    https://scikit-learn.org/stable/modules/preprocessing.html\n",
      "Please also refer to the documentation for alternative solver options:\n",
      "    https://scikit-learn.org/stable/modules/linear_model.html#logistic-regression\n",
      "  n_iter_i = _check_optimize_result(\n",
      "C:\\Users\\naman\\AppData\\Local\\Programs\\Python\\Python310\\lib\\site-packages\\sklearn\\linear_model\\_logistic.py:458: ConvergenceWarning: lbfgs failed to converge (status=2):\n",
      "ABNORMAL_TERMINATION_IN_LNSRCH.\n",
      "\n",
      "Increase the number of iterations (max_iter) or scale the data as shown in:\n",
      "    https://scikit-learn.org/stable/modules/preprocessing.html\n",
      "Please also refer to the documentation for alternative solver options:\n",
      "    https://scikit-learn.org/stable/modules/linear_model.html#logistic-regression\n",
      "  n_iter_i = _check_optimize_result(\n",
      "C:\\Users\\naman\\AppData\\Local\\Programs\\Python\\Python310\\lib\\site-packages\\sklearn\\linear_model\\_logistic.py:458: ConvergenceWarning: lbfgs failed to converge (status=2):\n",
      "ABNORMAL_TERMINATION_IN_LNSRCH.\n",
      "\n",
      "Increase the number of iterations (max_iter) or scale the data as shown in:\n",
      "    https://scikit-learn.org/stable/modules/preprocessing.html\n",
      "Please also refer to the documentation for alternative solver options:\n",
      "    https://scikit-learn.org/stable/modules/linear_model.html#logistic-regression\n",
      "  n_iter_i = _check_optimize_result(\n",
      "C:\\Users\\naman\\AppData\\Local\\Programs\\Python\\Python310\\lib\\site-packages\\sklearn\\linear_model\\_logistic.py:458: ConvergenceWarning: lbfgs failed to converge (status=2):\n",
      "ABNORMAL_TERMINATION_IN_LNSRCH.\n",
      "\n",
      "Increase the number of iterations (max_iter) or scale the data as shown in:\n",
      "    https://scikit-learn.org/stable/modules/preprocessing.html\n",
      "Please also refer to the documentation for alternative solver options:\n",
      "    https://scikit-learn.org/stable/modules/linear_model.html#logistic-regression\n",
      "  n_iter_i = _check_optimize_result(\n",
      "C:\\Users\\naman\\AppData\\Local\\Programs\\Python\\Python310\\lib\\site-packages\\sklearn\\linear_model\\_logistic.py:458: ConvergenceWarning: lbfgs failed to converge (status=2):\n",
      "ABNORMAL_TERMINATION_IN_LNSRCH.\n",
      "\n",
      "Increase the number of iterations (max_iter) or scale the data as shown in:\n",
      "    https://scikit-learn.org/stable/modules/preprocessing.html\n",
      "Please also refer to the documentation for alternative solver options:\n",
      "    https://scikit-learn.org/stable/modules/linear_model.html#logistic-regression\n",
      "  n_iter_i = _check_optimize_result(\n",
      "C:\\Users\\naman\\AppData\\Local\\Programs\\Python\\Python310\\lib\\site-packages\\sklearn\\linear_model\\_logistic.py:458: ConvergenceWarning: lbfgs failed to converge (status=2):\n",
      "ABNORMAL_TERMINATION_IN_LNSRCH.\n",
      "\n",
      "Increase the number of iterations (max_iter) or scale the data as shown in:\n",
      "    https://scikit-learn.org/stable/modules/preprocessing.html\n",
      "Please also refer to the documentation for alternative solver options:\n",
      "    https://scikit-learn.org/stable/modules/linear_model.html#logistic-regression\n",
      "  n_iter_i = _check_optimize_result(\n"
     ]
    },
    {
     "name": "stderr",
     "output_type": "stream",
     "text": [
      "C:\\Users\\naman\\AppData\\Local\\Programs\\Python\\Python310\\lib\\site-packages\\sklearn\\linear_model\\_logistic.py:458: ConvergenceWarning: lbfgs failed to converge (status=2):\n",
      "ABNORMAL_TERMINATION_IN_LNSRCH.\n",
      "\n",
      "Increase the number of iterations (max_iter) or scale the data as shown in:\n",
      "    https://scikit-learn.org/stable/modules/preprocessing.html\n",
      "Please also refer to the documentation for alternative solver options:\n",
      "    https://scikit-learn.org/stable/modules/linear_model.html#logistic-regression\n",
      "  n_iter_i = _check_optimize_result(\n",
      "C:\\Users\\naman\\AppData\\Local\\Programs\\Python\\Python310\\lib\\site-packages\\sklearn\\linear_model\\_logistic.py:458: ConvergenceWarning: lbfgs failed to converge (status=2):\n",
      "ABNORMAL_TERMINATION_IN_LNSRCH.\n",
      "\n",
      "Increase the number of iterations (max_iter) or scale the data as shown in:\n",
      "    https://scikit-learn.org/stable/modules/preprocessing.html\n",
      "Please also refer to the documentation for alternative solver options:\n",
      "    https://scikit-learn.org/stable/modules/linear_model.html#logistic-regression\n",
      "  n_iter_i = _check_optimize_result(\n",
      "C:\\Users\\naman\\AppData\\Local\\Programs\\Python\\Python310\\lib\\site-packages\\sklearn\\linear_model\\_logistic.py:458: ConvergenceWarning: lbfgs failed to converge (status=2):\n",
      "ABNORMAL_TERMINATION_IN_LNSRCH.\n",
      "\n",
      "Increase the number of iterations (max_iter) or scale the data as shown in:\n",
      "    https://scikit-learn.org/stable/modules/preprocessing.html\n",
      "Please also refer to the documentation for alternative solver options:\n",
      "    https://scikit-learn.org/stable/modules/linear_model.html#logistic-regression\n",
      "  n_iter_i = _check_optimize_result(\n",
      "C:\\Users\\naman\\AppData\\Local\\Programs\\Python\\Python310\\lib\\site-packages\\sklearn\\linear_model\\_logistic.py:458: ConvergenceWarning: lbfgs failed to converge (status=2):\n",
      "ABNORMAL_TERMINATION_IN_LNSRCH.\n",
      "\n",
      "Increase the number of iterations (max_iter) or scale the data as shown in:\n",
      "    https://scikit-learn.org/stable/modules/preprocessing.html\n",
      "Please also refer to the documentation for alternative solver options:\n",
      "    https://scikit-learn.org/stable/modules/linear_model.html#logistic-regression\n",
      "  n_iter_i = _check_optimize_result(\n",
      "C:\\Users\\naman\\AppData\\Local\\Programs\\Python\\Python310\\lib\\site-packages\\sklearn\\linear_model\\_logistic.py:458: ConvergenceWarning: lbfgs failed to converge (status=2):\n",
      "ABNORMAL_TERMINATION_IN_LNSRCH.\n",
      "\n",
      "Increase the number of iterations (max_iter) or scale the data as shown in:\n",
      "    https://scikit-learn.org/stable/modules/preprocessing.html\n",
      "Please also refer to the documentation for alternative solver options:\n",
      "    https://scikit-learn.org/stable/modules/linear_model.html#logistic-regression\n",
      "  n_iter_i = _check_optimize_result(\n",
      "C:\\Users\\naman\\AppData\\Local\\Programs\\Python\\Python310\\lib\\site-packages\\sklearn\\linear_model\\_logistic.py:458: ConvergenceWarning: lbfgs failed to converge (status=2):\n",
      "ABNORMAL_TERMINATION_IN_LNSRCH.\n",
      "\n",
      "Increase the number of iterations (max_iter) or scale the data as shown in:\n",
      "    https://scikit-learn.org/stable/modules/preprocessing.html\n",
      "Please also refer to the documentation for alternative solver options:\n",
      "    https://scikit-learn.org/stable/modules/linear_model.html#logistic-regression\n",
      "  n_iter_i = _check_optimize_result(\n",
      "C:\\Users\\naman\\AppData\\Local\\Programs\\Python\\Python310\\lib\\site-packages\\sklearn\\linear_model\\_logistic.py:458: ConvergenceWarning: lbfgs failed to converge (status=2):\n",
      "ABNORMAL_TERMINATION_IN_LNSRCH.\n",
      "\n",
      "Increase the number of iterations (max_iter) or scale the data as shown in:\n",
      "    https://scikit-learn.org/stable/modules/preprocessing.html\n",
      "Please also refer to the documentation for alternative solver options:\n",
      "    https://scikit-learn.org/stable/modules/linear_model.html#logistic-regression\n",
      "  n_iter_i = _check_optimize_result(\n",
      "C:\\Users\\naman\\AppData\\Local\\Programs\\Python\\Python310\\lib\\site-packages\\sklearn\\linear_model\\_logistic.py:458: ConvergenceWarning: lbfgs failed to converge (status=2):\n",
      "ABNORMAL_TERMINATION_IN_LNSRCH.\n",
      "\n",
      "Increase the number of iterations (max_iter) or scale the data as shown in:\n",
      "    https://scikit-learn.org/stable/modules/preprocessing.html\n",
      "Please also refer to the documentation for alternative solver options:\n",
      "    https://scikit-learn.org/stable/modules/linear_model.html#logistic-regression\n",
      "  n_iter_i = _check_optimize_result(\n",
      "C:\\Users\\naman\\AppData\\Local\\Programs\\Python\\Python310\\lib\\site-packages\\sklearn\\linear_model\\_logistic.py:458: ConvergenceWarning: lbfgs failed to converge (status=2):\n",
      "ABNORMAL_TERMINATION_IN_LNSRCH.\n",
      "\n",
      "Increase the number of iterations (max_iter) or scale the data as shown in:\n",
      "    https://scikit-learn.org/stable/modules/preprocessing.html\n",
      "Please also refer to the documentation for alternative solver options:\n",
      "    https://scikit-learn.org/stable/modules/linear_model.html#logistic-regression\n",
      "  n_iter_i = _check_optimize_result(\n",
      "C:\\Users\\naman\\AppData\\Local\\Programs\\Python\\Python310\\lib\\site-packages\\sklearn\\linear_model\\_logistic.py:458: ConvergenceWarning: lbfgs failed to converge (status=2):\n",
      "ABNORMAL_TERMINATION_IN_LNSRCH.\n",
      "\n",
      "Increase the number of iterations (max_iter) or scale the data as shown in:\n",
      "    https://scikit-learn.org/stable/modules/preprocessing.html\n",
      "Please also refer to the documentation for alternative solver options:\n",
      "    https://scikit-learn.org/stable/modules/linear_model.html#logistic-regression\n",
      "  n_iter_i = _check_optimize_result(\n",
      "C:\\Users\\naman\\AppData\\Local\\Programs\\Python\\Python310\\lib\\site-packages\\sklearn\\linear_model\\_logistic.py:458: ConvergenceWarning: lbfgs failed to converge (status=2):\n",
      "ABNORMAL_TERMINATION_IN_LNSRCH.\n",
      "\n",
      "Increase the number of iterations (max_iter) or scale the data as shown in:\n",
      "    https://scikit-learn.org/stable/modules/preprocessing.html\n",
      "Please also refer to the documentation for alternative solver options:\n",
      "    https://scikit-learn.org/stable/modules/linear_model.html#logistic-regression\n",
      "  n_iter_i = _check_optimize_result(\n",
      "C:\\Users\\naman\\AppData\\Local\\Programs\\Python\\Python310\\lib\\site-packages\\sklearn\\linear_model\\_logistic.py:458: ConvergenceWarning: lbfgs failed to converge (status=2):\n",
      "ABNORMAL_TERMINATION_IN_LNSRCH.\n",
      "\n",
      "Increase the number of iterations (max_iter) or scale the data as shown in:\n",
      "    https://scikit-learn.org/stable/modules/preprocessing.html\n",
      "Please also refer to the documentation for alternative solver options:\n",
      "    https://scikit-learn.org/stable/modules/linear_model.html#logistic-regression\n",
      "  n_iter_i = _check_optimize_result(\n",
      "C:\\Users\\naman\\AppData\\Local\\Programs\\Python\\Python310\\lib\\site-packages\\sklearn\\linear_model\\_logistic.py:458: ConvergenceWarning: lbfgs failed to converge (status=2):\n",
      "ABNORMAL_TERMINATION_IN_LNSRCH.\n",
      "\n",
      "Increase the number of iterations (max_iter) or scale the data as shown in:\n",
      "    https://scikit-learn.org/stable/modules/preprocessing.html\n",
      "Please also refer to the documentation for alternative solver options:\n",
      "    https://scikit-learn.org/stable/modules/linear_model.html#logistic-regression\n",
      "  n_iter_i = _check_optimize_result(\n",
      "C:\\Users\\naman\\AppData\\Local\\Programs\\Python\\Python310\\lib\\site-packages\\sklearn\\model_selection\\_validation.py:378: FitFailedWarning: \n",
      "30 fits failed out of a total of 60.\n",
      "The score on these train-test partitions for these parameters will be set to nan.\n",
      "If these failures are not expected, you can try to debug them by setting error_score='raise'.\n",
      "\n",
      "Below are more details about the failures:\n",
      "--------------------------------------------------------------------------------\n",
      "30 fits failed with the following error:\n",
      "Traceback (most recent call last):\n",
      "  File \"C:\\Users\\naman\\AppData\\Local\\Programs\\Python\\Python310\\lib\\site-packages\\sklearn\\model_selection\\_validation.py\", line 686, in _fit_and_score\n",
      "    estimator.fit(X_train, y_train, **fit_params)\n",
      "  File \"C:\\Users\\naman\\AppData\\Local\\Programs\\Python\\Python310\\lib\\site-packages\\sklearn\\linear_model\\_logistic.py\", line 1162, in fit\n",
      "    solver = _check_solver(self.solver, self.penalty, self.dual)\n",
      "  File \"C:\\Users\\naman\\AppData\\Local\\Programs\\Python\\Python310\\lib\\site-packages\\sklearn\\linear_model\\_logistic.py\", line 54, in _check_solver\n",
      "    raise ValueError(\n",
      "ValueError: Solver lbfgs supports only 'l2' or 'none' penalties, got l1 penalty.\n",
      "\n",
      "  warnings.warn(some_fits_failed_message, FitFailedWarning)\n",
      "C:\\Users\\naman\\AppData\\Local\\Programs\\Python\\Python310\\lib\\site-packages\\sklearn\\model_selection\\_search.py:952: UserWarning: One or more of the test scores are non-finite: [       nan 0.29171635        nan 0.29171635        nan 0.29171635\n",
      "        nan 0.29171635        nan 0.29171635        nan 0.29171635]\n",
      "  warnings.warn(\n"
     ]
    },
    {
     "name": "stderr",
     "output_type": "stream",
     "text": [
      "C:\\Users\\naman\\AppData\\Local\\Programs\\Python\\Python310\\lib\\site-packages\\sklearn\\linear_model\\_logistic.py:458: ConvergenceWarning: lbfgs failed to converge (status=2):\n",
      "ABNORMAL_TERMINATION_IN_LNSRCH.\n",
      "\n",
      "Increase the number of iterations (max_iter) or scale the data as shown in:\n",
      "    https://scikit-learn.org/stable/modules/preprocessing.html\n",
      "Please also refer to the documentation for alternative solver options:\n",
      "    https://scikit-learn.org/stable/modules/linear_model.html#logistic-regression\n",
      "  n_iter_i = _check_optimize_result(\n"
     ]
    },
    {
     "name": "stdout",
     "output_type": "stream",
     "text": [
      "Best Hyperparameters: {'C': 0.001, 'penalty': 'l2'}\n"
     ]
    },
    {
     "ename": "NameError",
     "evalue": "name 'precision_score' is not defined",
     "output_type": "error",
     "traceback": [
      "\u001b[1;31m---------------------------------------------------------------------------\u001b[0m",
      "\u001b[1;31mNameError\u001b[0m                                 Traceback (most recent call last)",
      "Cell \u001b[1;32mIn[16], line 27\u001b[0m\n\u001b[0;32m     21\u001b[0m \u001b[38;5;66;03m# roc_auc = roc_auc_score(y_test, y_pred)\u001b[39;00m\n\u001b[0;32m     22\u001b[0m \n\u001b[0;32m     23\u001b[0m \u001b[38;5;66;03m# Calculate ROC curve\u001b[39;00m\n\u001b[0;32m     24\u001b[0m \u001b[38;5;66;03m# fpr, tpr, thresholds = roc_curve(y_test, y_pred)\u001b[39;00m\n\u001b[0;32m     26\u001b[0m accuracy \u001b[38;5;241m=\u001b[39m accuracy_score(y_test, y_pred)\n\u001b[1;32m---> 27\u001b[0m precision \u001b[38;5;241m=\u001b[39m \u001b[43mprecision_score\u001b[49m(y_test, y_pred)\n\u001b[0;32m     28\u001b[0m recall \u001b[38;5;241m=\u001b[39m recall_score(y_test, y_pred)\n\u001b[0;32m     29\u001b[0m f1 \u001b[38;5;241m=\u001b[39m f1_score(y_test, y_pred)\n",
      "\u001b[1;31mNameError\u001b[0m: name 'precision_score' is not defined"
     ]
    }
   ],
   "source": [
    "import numpy as np\n",
    "import pandas as pd\n",
    "from sklearn.model_selection import train_test_split, GridSearchCV\n",
    "from sklearn.linear_model import LogisticRegression\n",
    "from sklearn.metrics import accuracy_score, classification_report\n",
    "from sklearn.metrics import roc_auc_score\n",
    "\n",
    "logreg = LogisticRegression(multi_class='auto', solver='lbfgs', max_iter=1000)\n",
    "\n",
    "param_grid = {\n",
    "    'C': [0.001, 0.01, 0.1, 1, 10, 100],\n",
    "    'penalty': ['l1', 'l2'],\n",
    "}\n",
    "\n",
    "grid_search = GridSearchCV(logreg, param_grid, cv=5, scoring='accuracy')\n",
    "grid_search.fit(X_train, y_train)\n",
    "print(\"Best Hyperparameters:\", grid_search.best_params_)\n",
    "\n",
    "y_pred = grid_search.predict(X_test)\n",
    "\n",
    "# roc_auc = roc_auc_score(y_test, y_pred)\n",
    "\n",
    "# Calculate ROC curve\n",
    "# fpr, tpr, thresholds = roc_curve(y_test, y_pred)\n",
    "\n",
    "accuracy = accuracy_score(y_test, y_pred)\n",
    "precision = precision_score(y_test, y_pred)\n",
    "recall = recall_score(y_test, y_pred)\n",
    "f1 = f1_score(y_test, y_pred)\n",
    "\n",
    "print(\"Accuracy on Test Set:\", accuracy)\n",
    "table['LogisticRegression']=accuracy\n",
    "\n",
    "print(\"Classification Report:\\n\", classification_report(y_test, y_pred))"
   ]
  },
  {
   "cell_type": "code",
   "execution_count": 17,
   "id": "b1b7891c",
   "metadata": {},
   "outputs": [
    {
     "ename": "NameError",
     "evalue": "name 'precision' is not defined",
     "output_type": "error",
     "traceback": [
      "\u001b[1;31m---------------------------------------------------------------------------\u001b[0m",
      "\u001b[1;31mNameError\u001b[0m                                 Traceback (most recent call last)",
      "Cell \u001b[1;32mIn[17], line 10\u001b[0m\n\u001b[0;32m      8\u001b[0m model_names\u001b[38;5;241m.\u001b[39mappend(\u001b[38;5;124m\"\u001b[39m\u001b[38;5;124mLogisticRegression\u001b[39m\u001b[38;5;124m\"\u001b[39m)\n\u001b[0;32m      9\u001b[0m accuracies\u001b[38;5;241m.\u001b[39mappend(accuracy)\n\u001b[1;32m---> 10\u001b[0m precisions\u001b[38;5;241m.\u001b[39mappend(\u001b[43mprecision\u001b[49m)\n\u001b[0;32m     11\u001b[0m recalls\u001b[38;5;241m.\u001b[39mappend(recall)\n\u001b[0;32m     12\u001b[0m roc_aucs\u001b[38;5;241m.\u001b[39mappend(roc_auc)\n",
      "\u001b[1;31mNameError\u001b[0m: name 'precision' is not defined"
     ]
    }
   ],
   "source": [
    "model_names = []\n",
    "accuracies = []\n",
    "precisions = []\n",
    "recalls = []\n",
    "roc_aucs = []\n",
    "f1s = []\n",
    "\n",
    "model_names.append(\"LogisticRegression\")\n",
    "accuracies.append(accuracy)\n",
    "precisions.append(precision)\n",
    "recalls.append(recall)\n",
    "roc_aucs.append(roc_auc)\n",
    "f1s.append(f1)"
   ]
  },
  {
   "cell_type": "code",
   "execution_count": 18,
   "id": "3ceef11c",
   "metadata": {},
   "outputs": [
    {
     "name": "stdout",
     "output_type": "stream",
     "text": [
      "Best Hyperparameters: {'max_depth': 15, 'min_samples_leaf': 1, 'min_samples_split': 2}\n",
      "Accuracy on Test Set: 0.9721603563474388\n",
      "Classification Report:\n",
      "               precision    recall  f1-score   support\n",
      "\n",
      "       AUDIO       0.99      1.00      1.00       515\n",
      "        CHAT       0.96      0.93      0.94       220\n",
      "       EMAIL       0.92      0.94      0.93       141\n",
      "        FILE       0.99      0.99      0.99       434\n",
      "       Other       0.92      0.96      0.94        47\n",
      "         STR       0.94      0.90      0.92       184\n",
      "       VIDEO       0.98      1.00      0.99       255\n",
      "\n",
      "    accuracy                           0.97      1796\n",
      "   macro avg       0.96      0.96      0.96      1796\n",
      "weighted avg       0.97      0.97      0.97      1796\n",
      "\n"
     ]
    }
   ],
   "source": [
    "import numpy as np\n",
    "from sklearn.model_selection import train_test_split, GridSearchCV\n",
    "from sklearn.tree import DecisionTreeClassifier\n",
    "from sklearn.metrics import accuracy_score, classification_report\n",
    "\n",
    "dtree = DecisionTreeClassifier()\n",
    "\n",
    "param_grid = {\n",
    "    'max_depth': [None, 5, 10, 15],\n",
    "    'min_samples_split': [2, 5, 10],\n",
    "    'min_samples_leaf': [1, 2, 4],\n",
    "}\n",
    "\n",
    "grid_search = GridSearchCV(dtree, param_grid, cv=5, scoring='accuracy')\n",
    "grid_search.fit(X_train, y_train)\n",
    "print(\"Best Hyperparameters:\", grid_search.best_params_)\n",
    "\n",
    "y_pred = grid_search.predict(X_test)\n",
    "accuracy = accuracy_score(y_test, y_pred)\n",
    "\n",
    "print(\"Accuracy on Test Set:\", accuracy)\n",
    "print(\"Classification Report:\\n\", classification_report(y_test, y_pred))"
   ]
  },
  {
   "cell_type": "code",
   "execution_count": 18,
   "id": "b410bc0c",
   "metadata": {},
   "outputs": [],
   "source": [
    "table['DecisionTreeClassifier']=0.9743875278396437"
   ]
  },
  {
   "cell_type": "code",
   "execution_count": 19,
   "id": "1b27379a",
   "metadata": {},
   "outputs": [
    {
     "name": "stdout",
     "output_type": "stream",
     "text": [
      "Best Hyperparameters: {'max_depth': None, 'min_samples_leaf': 1, 'min_samples_split': 2, 'n_estimators': 200}\n",
      "Accuracy on Test Set: 0.9793986636971047\n",
      "Classification Report:\n",
      "               precision    recall  f1-score   support\n",
      "\n",
      "       AUDIO       1.00      1.00      1.00       515\n",
      "        CHAT       0.95      0.97      0.96       220\n",
      "       EMAIL       0.91      0.96      0.94       141\n",
      "        FILE       1.00      1.00      1.00       434\n",
      "       Other       0.90      1.00      0.95        47\n",
      "         STR       0.99      0.88      0.93       184\n",
      "       VIDEO       1.00      1.00      1.00       255\n",
      "\n",
      "    accuracy                           0.98      1796\n",
      "   macro avg       0.96      0.97      0.97      1796\n",
      "weighted avg       0.98      0.98      0.98      1796\n",
      "\n"
     ]
    }
   ],
   "source": [
    "import numpy as np\n",
    "from sklearn.model_selection import train_test_split, GridSearchCV\n",
    "from sklearn.ensemble import RandomForestClassifier\n",
    "from sklearn.metrics import accuracy_score, classification_report\n",
    "\n",
    "rf = RandomForestClassifier()\n",
    "\n",
    "param_grid = {\n",
    "    'n_estimators': [50, 100, 200],\n",
    "    'max_depth': [None, 5, 10, 15],\n",
    "    'min_samples_split': [2, 5, 10],\n",
    "    'min_samples_leaf': [1, 2, 4],\n",
    "}\n",
    "\n",
    "grid_search = GridSearchCV(rf, param_grid, cv=5, scoring='accuracy')\n",
    "grid_search.fit(X_train, y_train)\n",
    "print(\"Best Hyperparameters:\", grid_search.best_params_)\n",
    "\n",
    "y_pred = grid_search.predict(X_test)\n",
    "accuracy = accuracy_score(y_test, y_pred)\n",
    "\n",
    "print(\"Accuracy on Test Set:\", accuracy)\n",
    "print(\"Classification Report:\\n\", classification_report(y_test, y_pred))"
   ]
  },
  {
   "cell_type": "code",
   "execution_count": 64,
   "id": "446aee56",
   "metadata": {},
   "outputs": [],
   "source": [
    "table['RandomForestClassifier']=0.9793986636971047"
   ]
  },
  {
   "cell_type": "code",
   "execution_count": 52,
   "id": "81e6c800",
   "metadata": {},
   "outputs": [
    {
     "name": "stdout",
     "output_type": "stream",
     "text": [
      "Accuracy on Test Set: 0.8084632516703786\n",
      "Classification Report:\n",
      "               precision    recall  f1-score   support\n",
      "\n",
      "       AUDIO       0.87      0.92      0.90       515\n",
      "        CHAT       0.72      0.68      0.70       220\n",
      "       EMAIL       0.54      0.79      0.64       141\n",
      "        FILE       0.93      0.81      0.87       434\n",
      "       Other       0.72      0.72      0.72        47\n",
      "         STR       0.87      0.53      0.66       184\n",
      "       VIDEO       0.77      0.92      0.84       255\n",
      "\n",
      "    accuracy                           0.81      1796\n",
      "   macro avg       0.78      0.77      0.76      1796\n",
      "weighted avg       0.82      0.81      0.81      1796\n",
      "\n"
     ]
    }
   ],
   "source": [
    "import numpy as np\n",
    "from sklearn.model_selection import train_test_split, GridSearchCV\n",
    "from sklearn.neighbors import KNeighborsClassifier\n",
    "from sklearn.metrics import accuracy_score, classification_report\n",
    "\n",
    "knn = KNeighborsClassifier(n_neighbors=79)\n",
    "\n",
    "knn.fit(X_train,y_train)\n",
    "y_pred = knn.predict(X_test)\n",
    "accuracy = accuracy_score(y_test, y_pred)\n",
    "\n",
    "print(\"Accuracy on Test Set:\", accuracy)\n",
    "print(\"Classification Report:\\n\", classification_report(y_test, y_pred))"
   ]
  },
  {
   "cell_type": "code",
   "execution_count": 65,
   "id": "6c61f8d0",
   "metadata": {},
   "outputs": [],
   "source": [
    "table['KNeighborsClassifier']=0.8084632516703786"
   ]
  },
  {
   "cell_type": "code",
   "execution_count": 54,
   "id": "2ac6bc12",
   "metadata": {},
   "outputs": [
    {
     "name": "stdout",
     "output_type": "stream",
     "text": [
      "Accuracy on Test Set: 0.2255011135857461\n",
      "Classification Report:\n",
      "               precision    recall  f1-score   support\n",
      "\n",
      "       AUDIO       0.43      0.27      0.33       515\n",
      "        CHAT       0.33      0.44      0.37       220\n",
      "       EMAIL       0.30      0.85      0.45       141\n",
      "        FILE       0.04      0.02      0.02       434\n",
      "       Other       0.11      0.83      0.19        47\n",
      "         STR       1.00      0.02      0.03       184\n",
      "       VIDEO       0.01      0.01      0.01       255\n",
      "\n",
      "    accuracy                           0.23      1796\n",
      "   macro avg       0.32      0.35      0.20      1796\n",
      "weighted avg       0.30      0.23      0.19      1796\n",
      "\n"
     ]
    }
   ],
   "source": [
    "import numpy as np\n",
    "from sklearn.model_selection import train_test_split, GridSearchCV\n",
    "from sklearn.naive_bayes import MultinomialNB\n",
    "from sklearn.metrics import accuracy_score, classification_report\n",
    "\n",
    "nb = MultinomialNB()\n",
    "\n",
    "nb.fit(X_train,y_train)\n",
    "y_pred = nb.predict(X_test)\n",
    "\n",
    "accuracy = accuracy_score(y_test, y_pred)\n",
    "print(\"Accuracy on Test Set:\", accuracy)\n",
    "print(\"Classification Report:\\n\", classification_report(y_test, y_pred))"
   ]
  },
  {
   "cell_type": "code",
   "execution_count": 69,
   "id": "42a75c25",
   "metadata": {},
   "outputs": [],
   "source": [
    "table['catboost']=0.9771714922048997"
   ]
  },
  {
   "cell_type": "code",
   "execution_count": 57,
   "id": "affda52f",
   "metadata": {},
   "outputs": [
    {
     "name": "stdout",
     "output_type": "stream",
     "text": [
      "Accuracy on Test Set: 0.9838530066815144\n",
      "Classification Report:\n",
      "               precision    recall  f1-score   support\n",
      "\n",
      "       AUDIO       1.00      1.00      1.00       515\n",
      "        CHAT       0.97      0.97      0.97       220\n",
      "       EMAIL       0.93      0.99      0.96       141\n",
      "        FILE       1.00      1.00      1.00       434\n",
      "       Other       0.96      0.96      0.96        47\n",
      "         STR       0.96      0.92      0.94       184\n",
      "       VIDEO       1.00      1.00      1.00       255\n",
      "\n",
      "    accuracy                           0.98      1796\n",
      "   macro avg       0.97      0.97      0.97      1796\n",
      "weighted avg       0.98      0.98      0.98      1796\n",
      "\n"
     ]
    }
   ],
   "source": [
    "from sklearn.ensemble import GradientBoostingClassifier\n",
    "\n",
    "gbc = GradientBoostingClassifier(n_estimators=300,learning_rate=0.05,random_state=100,max_features=5 )\n",
    "\n",
    "# n_estimators=300,learning_rate=0.05,random_state=100,max_features=5 \n",
    "\n",
    "gbc.fit(X_train,y_train)\n",
    "y_pred = gbc.predict(X_test)\n",
    "accuracy = accuracy_score(y_test, y_pred)\n",
    "\n",
    "print(\"Accuracy on Test Set:\", accuracy)\n",
    "print(\"Classification Report:\\n\", classification_report(y_test, y_pred))"
   ]
  },
  {
   "cell_type": "code",
   "execution_count": 56,
   "id": "a9b58e78",
   "metadata": {},
   "outputs": [
    {
     "ename": "ValueError",
     "evalue": "Invalid classes inferred from unique values of `y`.  Expected: [0 1 2 3 4 5 6], got ['AUDIO' 'CHAT' 'EMAIL' 'FILE' 'Other' 'STR' 'VIDEO']",
     "output_type": "error",
     "traceback": [
      "\u001b[0;31m---------------------------------------------------------------------------\u001b[0m",
      "\u001b[0;31mValueError\u001b[0m                                Traceback (most recent call last)",
      "Cell \u001b[0;32mIn[56], line 3\u001b[0m\n\u001b[1;32m      1\u001b[0m \u001b[38;5;28;01mfrom\u001b[39;00m \u001b[38;5;21;01mxgboost\u001b[39;00m \u001b[38;5;28;01mimport\u001b[39;00m XGBClassifier\n\u001b[1;32m      2\u001b[0m xb \u001b[38;5;241m=\u001b[39m XGBClassifier()\n\u001b[0;32m----> 3\u001b[0m \u001b[43mxb\u001b[49m\u001b[38;5;241;43m.\u001b[39;49m\u001b[43mfit\u001b[49m\u001b[43m(\u001b[49m\u001b[43mX_train\u001b[49m\u001b[43m,\u001b[49m\u001b[43my_train\u001b[49m\u001b[43m)\u001b[49m\n\u001b[1;32m      4\u001b[0m y_pred \u001b[38;5;241m=\u001b[39m xb\u001b[38;5;241m.\u001b[39mpredict(X_test)\n\u001b[1;32m      5\u001b[0m accuracy \u001b[38;5;241m=\u001b[39m accuracy_score(y_test, y_pred)\n",
      "File \u001b[0;32m/Library/Frameworks/Python.framework/Versions/3.11/lib/python3.11/site-packages/xgboost/core.py:620\u001b[0m, in \u001b[0;36mrequire_keyword_args.<locals>.throw_if.<locals>.inner_f\u001b[0;34m(*args, **kwargs)\u001b[0m\n\u001b[1;32m    618\u001b[0m \u001b[38;5;28;01mfor\u001b[39;00m k, arg \u001b[38;5;129;01min\u001b[39;00m \u001b[38;5;28mzip\u001b[39m(sig\u001b[38;5;241m.\u001b[39mparameters, args):\n\u001b[1;32m    619\u001b[0m     kwargs[k] \u001b[38;5;241m=\u001b[39m arg\n\u001b[0;32m--> 620\u001b[0m \u001b[38;5;28;01mreturn\u001b[39;00m \u001b[43mfunc\u001b[49m\u001b[43m(\u001b[49m\u001b[38;5;241;43m*\u001b[39;49m\u001b[38;5;241;43m*\u001b[39;49m\u001b[43mkwargs\u001b[49m\u001b[43m)\u001b[49m\n",
      "File \u001b[0;32m/Library/Frameworks/Python.framework/Versions/3.11/lib/python3.11/site-packages/xgboost/sklearn.py:1440\u001b[0m, in \u001b[0;36mXGBClassifier.fit\u001b[0;34m(self, X, y, sample_weight, base_margin, eval_set, eval_metric, early_stopping_rounds, verbose, xgb_model, sample_weight_eval_set, base_margin_eval_set, feature_weights, callbacks)\u001b[0m\n\u001b[1;32m   1435\u001b[0m     expected_classes \u001b[38;5;241m=\u001b[39m np\u001b[38;5;241m.\u001b[39marange(\u001b[38;5;28mself\u001b[39m\u001b[38;5;241m.\u001b[39mn_classes_)\n\u001b[1;32m   1436\u001b[0m \u001b[38;5;28;01mif\u001b[39;00m (\n\u001b[1;32m   1437\u001b[0m     \u001b[38;5;28mself\u001b[39m\u001b[38;5;241m.\u001b[39mclasses_\u001b[38;5;241m.\u001b[39mshape \u001b[38;5;241m!=\u001b[39m expected_classes\u001b[38;5;241m.\u001b[39mshape\n\u001b[1;32m   1438\u001b[0m     \u001b[38;5;129;01mor\u001b[39;00m \u001b[38;5;129;01mnot\u001b[39;00m (\u001b[38;5;28mself\u001b[39m\u001b[38;5;241m.\u001b[39mclasses_ \u001b[38;5;241m==\u001b[39m expected_classes)\u001b[38;5;241m.\u001b[39mall()\n\u001b[1;32m   1439\u001b[0m ):\n\u001b[0;32m-> 1440\u001b[0m     \u001b[38;5;28;01mraise\u001b[39;00m \u001b[38;5;167;01mValueError\u001b[39;00m(\n\u001b[1;32m   1441\u001b[0m         \u001b[38;5;124mf\u001b[39m\u001b[38;5;124m\"\u001b[39m\u001b[38;5;124mInvalid classes inferred from unique values of `y`.  \u001b[39m\u001b[38;5;124m\"\u001b[39m\n\u001b[1;32m   1442\u001b[0m         \u001b[38;5;124mf\u001b[39m\u001b[38;5;124m\"\u001b[39m\u001b[38;5;124mExpected: \u001b[39m\u001b[38;5;132;01m{\u001b[39;00mexpected_classes\u001b[38;5;132;01m}\u001b[39;00m\u001b[38;5;124m, got \u001b[39m\u001b[38;5;132;01m{\u001b[39;00m\u001b[38;5;28mself\u001b[39m\u001b[38;5;241m.\u001b[39mclasses_\u001b[38;5;132;01m}\u001b[39;00m\u001b[38;5;124m\"\u001b[39m\n\u001b[1;32m   1443\u001b[0m     )\n\u001b[1;32m   1445\u001b[0m params \u001b[38;5;241m=\u001b[39m \u001b[38;5;28mself\u001b[39m\u001b[38;5;241m.\u001b[39mget_xgb_params()\n\u001b[1;32m   1447\u001b[0m \u001b[38;5;28;01mif\u001b[39;00m callable(\u001b[38;5;28mself\u001b[39m\u001b[38;5;241m.\u001b[39mobjective):\n",
      "\u001b[0;31mValueError\u001b[0m: Invalid classes inferred from unique values of `y`.  Expected: [0 1 2 3 4 5 6], got ['AUDIO' 'CHAT' 'EMAIL' 'FILE' 'Other' 'STR' 'VIDEO']"
     ]
    }
   ],
   "source": [
    "from xgboost import XGBClassifier\n",
    "xb = XGBClassifier()\n",
    "xb.fit(X_train,y_train)\n",
    "y_pred = xb.predict(X_test)\n",
    "accuracy = accuracy_score(y_test, y_pred)\n",
    "print(\"Accuracy on Test Set:\", accuracy)\n",
    "\n",
    "print(\"Classification Report:\\n\", classification_report(y_test, y_pred))"
   ]
  },
  {
   "cell_type": "code",
   "execution_count": 58,
   "id": "74fd24f7",
   "metadata": {},
   "outputs": [
    {
     "name": "stdout",
     "output_type": "stream",
     "text": [
      "Accuracy on Test Set: 0.982739420935412\n",
      "Classification Report:\n",
      "               precision    recall  f1-score   support\n",
      "\n",
      "       AUDIO       1.00      1.00      1.00       515\n",
      "        CHAT       0.97      0.96      0.96       220\n",
      "       EMAIL       0.93      0.98      0.96       141\n",
      "        FILE       1.00      1.00      1.00       434\n",
      "       Other       0.92      1.00      0.96        47\n",
      "         STR       0.97      0.91      0.94       184\n",
      "       VIDEO       1.00      1.00      1.00       255\n",
      "\n",
      "    accuracy                           0.98      1796\n",
      "   macro avg       0.97      0.98      0.97      1796\n",
      "weighted avg       0.98      0.98      0.98      1796\n",
      "\n"
     ]
    }
   ],
   "source": [
    "from lightgbm import LGBMClassifier\n",
    "lgbm = LGBMClassifier()\n",
    "lgbm.fit(X_train,y_train)\n",
    "y_pred = lgbm.predict(X_test)\n",
    "accuracy = accuracy_score(y_test, y_pred)\n",
    "\n",
    "print(\"Accuracy on Test Set:\", accuracy)\n",
    "print(\"Classification Report:\\n\", classification_report(y_test, y_pred))"
   ]
  },
  {
   "cell_type": "code",
   "execution_count": 59,
   "id": "7f2551fa",
   "metadata": {},
   "outputs": [
    {
     "name": "stdout",
     "output_type": "stream",
     "text": [
      "Accuracy on Test Set: 0.9771714922048997\n",
      "Classification Report:\n",
      "               precision    recall  f1-score   support\n",
      "\n",
      "       AUDIO       1.00      1.00      1.00       515\n",
      "        CHAT       0.95      0.97      0.96       220\n",
      "       EMAIL       0.90      0.98      0.94       141\n",
      "        FILE       0.99      1.00      0.99       434\n",
      "       Other       0.95      0.89      0.92        47\n",
      "         STR       0.96      0.88      0.91       184\n",
      "       VIDEO       1.00      1.00      1.00       255\n",
      "\n",
      "    accuracy                           0.98      1796\n",
      "   macro avg       0.96      0.96      0.96      1796\n",
      "weighted avg       0.98      0.98      0.98      1796\n",
      "\n"
     ]
    }
   ],
   "source": [
    "import numpy as np\n",
    "from sklearn.model_selection import train_test_split, GridSearchCV\n",
    "from catboost import CatBoostClassifier\n",
    "from sklearn.metrics import accuracy_score, classification_report\n",
    "\n",
    "\n",
    "catboost_model = CatBoostClassifier(iterations=100, depth=6, learning_rate=0.1, loss_function='MultiClass', verbose=0)\n",
    "\n",
    "catboost_model.fit(X_train, y_train)\n",
    "y_pred = catboost_model.predict(X_test)\n",
    "accuracy = accuracy_score(y_test, y_pred)\n",
    "\n",
    "print(\"Accuracy on Test Set:\", accuracy)\n",
    "print(\"Classification Report:\\n\", classification_report(y_test, y_pred))"
   ]
  },
  {
   "cell_type": "code",
   "execution_count": 70,
   "id": "371fb1ca",
   "metadata": {},
   "outputs": [
    {
     "data": {
      "text/plain": [
       "{'LogisticRegression': 0.28674832962138086,\n",
       " 'DecisionTreeClassifier': 0.9743875278396437,\n",
       " 'RandomForestClassifier': 0.9793986636971047,\n",
       " 'KNeighborsClassifier': 0.8084632516703786,\n",
       " 'MultinomialNB': 0.2255011135857461,\n",
       " 'GradientBoostingClassifier': 0.9838530066815144,\n",
       " 'LGBMClassifier': 0.982739420935412,\n",
       " 'catboost': 0.9771714922048997}"
      ]
     },
     "execution_count": 70,
     "metadata": {},
     "output_type": "execute_result"
    }
   ],
   "source": [
    "table"
   ]
  },
  {
   "cell_type": "code",
   "execution_count": 72,
   "id": "32df6f9d",
   "metadata": {},
   "outputs": [
    {
     "data": {
      "image/png": "[encoded data removed]",
      "text/plain": [
       "<Figure size 1000x600 with 1 Axes>"
      ]
     },
     "metadata": {},
     "output_type": "display_data"
    }
   ],
   "source": [
    "import pandas as pd\n",
    "import matplotlib.pyplot as plt\n",
    "\n",
    "# Your accuracy dictionary\n",
    "accuracy_dict = {\n",
    "    'LogisticRegression': 0.28674832962138086,\n",
    "    'DecisionTreeClassifier': 0.9743875278396437,\n",
    "    'RandomForestClassifier': 0.9793986636971047,\n",
    "    'KNeighborsClassifier': 0.8084632516703786,\n",
    "    'MultinomialNB': 0.2255011135857461,\n",
    "    'GradientBoostingClassifier': 0.9838530066815144,\n",
    "    'LGBMClassifier': 0.982739420935412,\n",
    "    'catboost': 0.9771714922048997\n",
    "}\n",
    "\n",
    "df = pd.DataFrame(list(accuracy_dict.items()), columns=['Model', 'Accuracy'])\n",
    "df = df.sort_values(by='Accuracy', ascending=False)\n",
    "plt.figure(figsize=(10, 6))\n",
    "plt.barh(df['Model'], df['Accuracy'], color='skyblue')\n",
    "\n",
    "for index, value in enumerate(df['Accuracy']):\n",
    "    plt.text(value, index, f'{value:.2f}', ha='left', va='center', color='black', fontsize=10)\n",
    "\n",
    "plt.xlabel('Accuracy')\n",
    "plt.title('Accuracy Comparison of Models')\n",
    "plt.show()"
   ]
  },
  {
   "cell_type": "code",
   "execution_count": null,
   "id": "87e4ea98",
   "metadata": {},
   "outputs": [],
   "source": [
    "# Mixed roc\n",
    "# Heatmap for evalution matrics for 3-4 models\n",
    "# confusion matrix\n"
   ]
  }
 ],
 "metadata": {
  "kernelspec": {
   "display_name": "Python 3 (ipykernel)",
   "language": "python",
   "name": "python3"
  },
  "language_info": {
   "codemirror_mode": {
    "name": "ipython",
    "version": 3
   },
   "file_extension": ".py",
   "mimetype": "text/x-python",
   "name": "python",
   "nbconvert_exporter": "python",
   "pygments_lexer": "ipython3",
   "version": "3.10.7"
  }
 },
 "nbformat": 4,
 "nbformat_minor": 5
}
